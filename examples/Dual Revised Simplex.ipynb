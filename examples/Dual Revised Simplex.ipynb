{
 "cells": [
  {
   "cell_type": "markdown",
   "metadata": {},
   "source": [
    "Исходные данные задачи в стандартной форме"
   ]
  },
  {
   "cell_type": "code",
   "execution_count": 194,
   "metadata": {
    "collapsed": false
   },
   "outputs": [
    {
     "name": "stderr",
     "output_type": "stream",
     "text": [
      "WARNING: Method definition get_problem() in module Main at In[185]:2 overwritten at In[194]:2.\n"
     ]
    },
    {
     "data": {
      "text/plain": [
       "get_problem (generic function with 1 method)"
      ]
     },
     "execution_count": 194,
     "metadata": {},
     "output_type": "execute_result"
    }
   ],
   "source": [
    "function get_problem()\n",
    "    A = Float64[3 2 1 1 0; 2 5 3 0 1]\n",
    "    b = Float64[10, 15]\n",
    "    c = Float64[-2, -3, -4, 0, 0]\n",
    "    A, b, c\n",
    "end"
   ]
  },
  {
   "cell_type": "code",
   "execution_count": 195,
   "metadata": {
    "collapsed": false
   },
   "outputs": [
    {
     "name": "stderr",
     "output_type": "stream",
     "text": [
      "WARNING: Method definition update_vars(Any, Any, Any) in module Main at In[186]:2 overwritten at In[195]:2.\n"
     ]
    },
    {
     "data": {
      "text/plain": [
       "update_vars (generic function with 1 method)"
      ]
     },
     "execution_count": 195,
     "metadata": {},
     "output_type": "execute_result"
    }
   ],
   "source": [
    "function update_vars(A, basis, nonbasis)\n",
    "    B = A[:,basis]\n",
    "    N = A[:,nonbasis]\n",
    "    B⁻¹ = inv(B)\n",
    "    b̂ = B⁻¹ * b\n",
    "    return B, B⁻¹, N, b̂\n",
    "end"
   ]
  },
  {
   "cell_type": "code",
   "execution_count": 196,
   "metadata": {
    "collapsed": false
   },
   "outputs": [
    {
     "name": "stderr",
     "output_type": "stream",
     "text": [
      "WARNING: Method definition CHUZR(Any, Any) in module Main at In[187]:2 overwritten at In[196]:2.\n"
     ]
    },
    {
     "data": {
      "text/plain": [
       "CHUZR (generic function with 1 method)"
      ]
     },
     "execution_count": 196,
     "metadata": {},
     "output_type": "execute_result"
    }
   ],
   "source": [
    "function CHUZR(A, b̂)\n",
    "    m, n = size(A)\n",
    "    e = eye(m)\n",
    "    rations = [b̂[p] / norm(B⁻¹ * e[:,p]) for p in 1:m]\n",
    "    p = collect(take(sortperm(rations, rev=true), 1))\n",
    "    return p[1]\n",
    "end"
   ]
  },
  {
   "cell_type": "code",
   "execution_count": 197,
   "metadata": {
    "collapsed": false
   },
   "outputs": [
    {
     "name": "stderr",
     "output_type": "stream",
     "text": [
      "WARNING: Method definition BTRAN(Any, Any, Any) in module Main at In[188]:2 overwritten at In[197]:2.\n"
     ]
    },
    {
     "data": {
      "text/plain": [
       "BTRAN (generic function with 1 method)"
      ]
     },
     "execution_count": 197,
     "metadata": {},
     "output_type": "execute_result"
    }
   ],
   "source": [
    "function BTRAN(A, B⁻¹, p)\n",
    "    m, n = size(A)\n",
    "    e = eye(m)\n",
    "    πᵀ = e[:,p]' * B⁻¹\n",
    "    return πᵀ\n",
    "end"
   ]
  },
  {
   "cell_type": "code",
   "execution_count": 198,
   "metadata": {
    "collapsed": false
   },
   "outputs": [
    {
     "name": "stderr",
     "output_type": "stream",
     "text": [
      "WARNING: Method definition PRICE(Any, Any) in module Main at In[189]:2 overwritten at In[198]:2.\n"
     ]
    },
    {
     "data": {
      "text/plain": [
       "PRICE (generic function with 1 method)"
      ]
     },
     "execution_count": 198,
     "metadata": {},
     "output_type": "execute_result"
    }
   ],
   "source": [
    "function PRICE(πᵀ, N)\n",
    "    âᵀ = πᵀ * N\n",
    "    return âᵀ\n",
    "end"
   ]
  },
  {
   "cell_type": "code",
   "execution_count": 199,
   "metadata": {
    "collapsed": false
   },
   "outputs": [
    {
     "name": "stderr",
     "output_type": "stream",
     "text": [
      "WARNING: Method definition CHUZC(Any, Any, Any) in module Main at In[190]:2 overwritten at In[199]:2.\n"
     ]
    },
    {
     "data": {
      "text/plain": [
       "CHUZC (generic function with 1 method)"
      ]
     },
     "execution_count": 199,
     "metadata": {},
     "output_type": "execute_result"
    }
   ],
   "source": [
    "function CHUZC(c, nonbasis, âᵀ)\n",
    "    ĉ = c[nonbasis]\n",
    "    rations = [ĉ[j] / âᵀ'[j] for j in 1:length(âᵀ)]\n",
    "    q = collect(take(sortperm(rations), 1))\n",
    "    ĉₙ = c[nonbasis]\n",
    "    β = ĉ[q] / âᵀ[q]\n",
    "    c[nonbasis] = (ĉₙ' - β * âᵀ)'\n",
    "    return q[1]\n",
    "end"
   ]
  },
  {
   "cell_type": "code",
   "execution_count": 200,
   "metadata": {
    "collapsed": false
   },
   "outputs": [
    {
     "name": "stderr",
     "output_type": "stream",
     "text": [
      "WARNING: Method definition FTRAN(Any, Any, Any, Any, Any, Any) in module Main at In[191]:2 overwritten at In[200]:2.\n"
     ]
    },
    {
     "data": {
      "text/plain": [
       "FTRAN (generic function with 1 method)"
      ]
     },
     "execution_count": 200,
     "metadata": {},
     "output_type": "execute_result"
    }
   ],
   "source": [
    "function FTRAN(A, B⁻¹, b̂, p, âᵀ, q)\n",
    "    âq = B⁻¹ * A[:,q]\n",
    "    α = (b̂[p] / âᵀ[q])[1]\n",
    "    b̂ = b̂ - α * âq\n",
    "end"
   ]
  },
  {
   "cell_type": "code",
   "execution_count": 201,
   "metadata": {
    "collapsed": false
   },
   "outputs": [
    {
     "name": "stderr",
     "output_type": "stream",
     "text": [
      "WARNING: Method definition update(Any, Any, Any, Any) in module Main at In[192]:2 overwritten at In[201]:2.\n"
     ]
    },
    {
     "data": {
      "text/plain": [
       "update (generic function with 1 method)"
      ]
     },
     "execution_count": 201,
     "metadata": {},
     "output_type": "execute_result"
    }
   ],
   "source": [
    "function update(basis, nonbasis, p, q)\n",
    "    basis[p], nonbasis[q] = nonbasis[q], basis[p]\n",
    "end"
   ]
  },
  {
   "cell_type": "code",
   "execution_count": 202,
   "metadata": {
    "collapsed": false
   },
   "outputs": [
    {
     "name": "stderr",
     "output_type": "stream",
     "text": [
      "WARNING: Method definition iter(Any, Any, Any, Any, Any) in module Main at In[193]:2 overwritten at In[202]:2.\n"
     ]
    },
    {
     "data": {
      "text/plain": [
       "iter (generic function with 1 method)"
      ]
     },
     "execution_count": 202,
     "metadata": {},
     "output_type": "execute_result"
    }
   ],
   "source": [
    "function iter(A, b, c, basis, nonbasis)\n",
    "    B, B⁻¹, N, b̂ = update_vars(A, basis, nonbasis)\n",
    "    \n",
    "    p = CHUZR(A, b̂)\n",
    "\n",
    "    πᵀ = BTRAN(A, B⁻¹, p)\n",
    "\n",
    "    âᵀ = PRICE(πᵀ, N)\n",
    "\n",
    "    q = CHUZC(c, nonbasis, âᵀ)\n",
    "\n",
    "    FTRAN(A, B⁻¹, b̂, p, âᵀ, q)\n",
    "\n",
    "    update(basis, nonbasis, p, q)\n",
    "end"
   ]
  },
  {
   "cell_type": "code",
   "execution_count": 203,
   "metadata": {
    "collapsed": false
   },
   "outputs": [
    {
     "data": {
      "text/plain": [
       "(3,5)"
      ]
     },
     "execution_count": 203,
     "metadata": {},
     "output_type": "execute_result"
    }
   ],
   "source": [
    "A, b, c = get_problem()\n",
    "\n",
    "basis = [4, 5]\n",
    "nonbasis = [1, 2, 3]\n",
    "\n",
    "iter(A, b, c, basis, nonbasis)"
   ]
  }
 ],
 "metadata": {
  "anaconda-cloud": {},
  "kernelspec": {
   "display_name": "Julia 0.5.0",
   "language": "julia",
   "name": "julia-0.5"
  },
  "language_info": {
   "file_extension": ".jl",
   "mimetype": "application/julia",
   "name": "julia",
   "version": "0.5.0"
  }
 },
 "nbformat": 4,
 "nbformat_minor": 1
}
