{
 "cells": [
  {
   "cell_type": "code",
   "execution_count": 2,
   "metadata": {
    "collapsed": false
   },
   "outputs": [
    {
     "name": "stderr",
     "output_type": "stream",
     "text": [
      "INFO: Precompiling module DataStructures.\n"
     ]
    },
    {
     "ename": "LoadError",
     "evalue": "LoadError: LoadError: LoadError: The default solver is set to `nothing`\n         You must have at least one solver installed to use Convex.\n         You can install a solver such as SCS by running:\n         Pkg.add(\"SCS\").\n         You will have to restart Julia after that.\nwhile loading /Users/shurik/.julia/v0.5/Convex/src/solver_info.jl, in expression starting on line 33\nwhile loading /Users/shurik/.julia/v0.5/Convex/src/Convex.jl, in expression starting on line 18\nwhile loading In[2], in expression starting on line 1",
     "output_type": "error",
     "traceback": [
      "LoadError: LoadError: LoadError: The default solver is set to `nothing`\n         You must have at least one solver installed to use Convex.\n         You can install a solver such as SCS by running:\n         Pkg.add(\"SCS\").\n         You will have to restart Julia after that.\nwhile loading /Users/shurik/.julia/v0.5/Convex/src/solver_info.jl, in expression starting on line 33\nwhile loading /Users/shurik/.julia/v0.5/Convex/src/Convex.jl, in expression starting on line 18\nwhile loading In[2], in expression starting on line 1",
      "",
      " in get_default_solver; at /Users/shurik/.julia/v0.5/Convex/src/solver_info.jl:12 [inlined]",
      " in anonymous at ./<missing>:?",
      " in include_from_node1(::String) at ./loading.jl:488",
      " in include_from_node1(::String) at /Applications/Julia-0.5.app/Contents/Resources/julia/lib/julia/sys.dylib:?",
      " in include_from_node1(::String) at ./loading.jl:488",
      " in include_from_node1(::String) at /Applications/Julia-0.5.app/Contents/Resources/julia/lib/julia/sys.dylib:?",
      " in eval(::Module, ::Any) at ./boot.jl:234",
      " in eval(::Module, ::Any) at /Applications/Julia-0.5.app/Contents/Resources/julia/lib/julia/sys.dylib:?",
      " in require(::Symbol) at ./loading.jl:415",
      " in require(::Symbol) at /Applications/Julia-0.5.app/Contents/Resources/julia/lib/julia/sys.dylib:?"
     ]
    }
   ],
   "source": [
    "using Convex\n",
    "using LPLib\n",
    "\n",
    "solver = LPSolver()\n",
    "set_default_solver(solver);\n",
    "\n",
    "x = Variable(4)\n",
    "c = [1; 2; 3; 4]\n",
    "A = eye(4)\n",
    "b = [10; 10; 10; 10]\n",
    "p = minimize(dot(c, x)) # or c' * x\n",
    "p.constraints += A * x <= b\n",
    "p.constraints += [x >= 1; x <= 10; x[2] <= 5; x[1] + x[4] - x[2] <= 10]\n",
    "solve!(p)\n",
    "\n",
    "println(round(p.optval, 2))\n",
    "println(round(x.value, 2))\n",
    "println(evaluate(x[1] + x[4] - x[2]))"
   ]
  },
  {
   "cell_type": "code",
   "execution_count": null,
   "metadata": {
    "collapsed": true
   },
   "outputs": [],
   "source": []
  }
 ],
 "metadata": {
  "kernelspec": {
   "display_name": "Julia 0.5.0",
   "language": "julia",
   "name": "julia-0.5"
  },
  "language_info": {
   "file_extension": ".jl",
   "mimetype": "application/julia",
   "name": "julia",
   "version": "0.5.0"
  }
 },
 "nbformat": 4,
 "nbformat_minor": 0
}
