{
 "cells": [
  {
   "cell_type": "code",
   "execution_count": 1,
   "metadata": {
    "collapsed": false
   },
   "outputs": [
    {
     "name": "stdout",
     "output_type": "stream",
     "text": [
      "loadproblem\n",
      "A [1.0 0.0; 0.0 2.0; 3.0 2.0]\n",
      "collb [-Inf,-Inf]\n",
      "colub [Inf,Inf]\n",
      "obj [-3.0,-5.0]\n",
      "rowlb [-Inf,-Inf,-Inf]\n",
      "rowub [180.0,150.0,300.0]\n",
      "sense Min\n",
      "m.inq [-1.0,-1.0,-1.0]\n",
      "m.A [1.0 0.0; 0.0 2.0; 3.0 2.0]\n",
      "b_Neg [0,0,0]\n",
      "m.m 3\n",
      "m.n 2\n",
      "m.c [-3.0,-5.0]\n",
      "m.M 400.0\n",
      "m.basis [0.0 0.0 0.0]\n",
      "n_slack 3\n",
      "m.A [1.0 0.0 0.0 0.0 0.0; 0.0 2.0 0.0 0.0 0.0; 3.0 2.0 0.0 0.0 0.0]\n",
      "m.c [-3.0; -5.0; 0.0; 0.0; 0.0]\n",
      "updateDimension m.n 5\n",
      "m.basis [3.0 4.0 5.0]\n",
      "n_artfVar 0\n",
      "updateDimension m.n 5\n",
      "m.x [0.0; 0.0; 0.0; 0.0; 0.0]\n",
      "basis_ids [3,4,5]\n",
      "lhs [1.0 0.0 0.0; 0.0 1.0 0.0; 0.0 0.0 1.0]\n",
      "rhs [180.0,150.0,300.0]\n",
      "m.x [0.0; 0.0; 180.0; 150.0; 300.0]\n",
      "m.d [-3.0; -5.0; 0.0; 0.0; 0.0]\n",
      "m.b [180.0,150.0,300.0]\n",
      "optimize \n",
      "status\n"
     ]
    },
    {
     "data": {
      "text/plain": [
       "MathProgBase.HighLevelInterface.LinprogSolution(nothing,nothing,Any[],Dict{Any,Any}())"
      ]
     },
     "execution_count": 1,
     "metadata": {},
     "output_type": "execute_result"
    }
   ],
   "source": [
    "using MathProgBase\n",
    "using LPLib\n",
    "\n",
    "# solve problem\n",
    "c = Float64[-3, -5]\n",
    "b = Float64[180, 150, 300]\n",
    "A = Float64[1 0; 0 2; 3 2]\n",
    "sense = ['<', '<', '<']\n",
    "lower_bounds = -Inf\n",
    "upper_bounds = Inf\n",
    "\n",
    "sol = linprog(c, A, sense, b, lower_bounds, upper_bounds, LPSolver())"
   ]
  },
  {
   "cell_type": "code",
   "execution_count": null,
   "metadata": {
    "collapsed": true
   },
   "outputs": [],
   "source": []
  }
 ],
 "metadata": {
  "kernelspec": {
   "display_name": "Julia 0.5.0",
   "language": "julia",
   "name": "julia-0.5"
  },
  "language_info": {
   "file_extension": ".jl",
   "mimetype": "application/julia",
   "name": "julia",
   "version": "0.5.0"
  }
 },
 "nbformat": 4,
 "nbformat_minor": 0
}
