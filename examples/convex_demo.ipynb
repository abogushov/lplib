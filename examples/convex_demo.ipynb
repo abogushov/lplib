{
 "cells": [
  {
   "cell_type": "code",
   "execution_count": 1,
   "metadata": {
    "collapsed": true
   },
   "outputs": [],
   "source": [
    "using Convex\n",
    "using SCS"
   ]
  },
  {
   "cell_type": "code",
   "execution_count": 2,
   "metadata": {
    "collapsed": false
   },
   "outputs": [
    {
     "name": "stdout",
     "output_type": "stream",
     "text": [
      "----------------------------------------------------------------------------\n",
      "\tSCS v1.2.6 - Splitting Conic Solver\n",
      "\t(c) Brendan O'Donoghue, Stanford University, 2012-2016\n",
      "----------------------------------------------------------------------------\n",
      "Lin-sys: sparse-direct, nnz in A = 31\n",
      "eps = 1.00e-04, alpha = 1.80, max_iters = 20000, normalize = 1, scale = 5.00\n",
      "Variables n = 8, constraints m = 15\n",
      "Cones:\tprimal zero / dual free vars: 1\n",
      "\tlinear vars: 6\n",
      "\tsoc vars: 8, soc blks: 2\n",
      "Setup time: 9.72e-04s\n",
      "----------------------------------------------------------------------------\n",
      " Iter | pri res | dua res | rel gap | pri obj | dua obj | kap/tau | time (s)\n",
      "----------------------------------------------------------------------------\n",
      "     0|      inf       inf       nan      -inf       inf       inf  6.49e-04 \n",
      "   100| 5.29e-04  5.38e-03  9.29e-03  1.86e-03  1.13e-02  0.00e+00  7.32e-04 \n",
      "   200| 1.13e-04  1.13e-03  2.10e-03  1.39e-04  2.24e-03  0.00e+00  8.10e-04 \n",
      "   300| 2.02e-05  2.01e-04  3.79e-04  1.63e-05  3.95e-04  0.00e+00  8.89e-04 \n",
      "   380| 4.97e-06  4.92e-05  9.32e-05  3.66e-06  9.68e-05  0.00e+00  9.53e-04 \n",
      "----------------------------------------------------------------------------\n",
      "Status: Solved\n",
      "Timing: Solve time: 9.84e-04s\n",
      "\tLin-sys: nnz in L factor: 60, avg solve time: 8.92e-07s\n",
      "\tCones: avg projection time: 8.27e-08s\n",
      "----------------------------------------------------------------------------\n",
      "Error metrics:\n",
      "dist(s, K) = 3.6063e-17, dist(y, K*) = 1.0842e-19, s'y/|s||y| = 3.4564e-17\n",
      "|Ax + s - b|_2 / (1 + |b|_2) = 4.9671e-06\n",
      "|A'y + c|_2 / (1 + |c|_2) = 4.9193e-05\n",
      "|c'x + b'y| / (1 + |c'x| + |b'y|) = 9.3167e-05\n",
      "----------------------------------------------------------------------------\n",
      "c'x = 0.0000, -b'y = 0.0001\n",
      "============================================================================\n"
     ]
    },
    {
     "data": {
      "text/plain": [
       "3.656985080587803e-6"
      ]
     },
     "execution_count": 2,
     "metadata": {},
     "output_type": "execute_result"
    }
   ],
   "source": [
    "m = 4;  n = 5\n",
    "A = randn(m, n); b = randn(m, 1)\n",
    "\n",
    "# Create a (column vector) variable of size n x 1.\n",
    "x = Variable(n)\n",
    "\n",
    "# The problem is to minimize ||Ax - b||^2 subject to x >= 0\n",
    "# This can be done by: minimize(objective, constraints)\n",
    "problem = minimize(sumsquares(A * x - b), [x >= 0])\n",
    "\n",
    "# Solve the problem by calling solve!\n",
    "solve!(problem)"
   ]
  },
  {
   "cell_type": "code",
   "execution_count": 3,
   "metadata": {
    "collapsed": false
   },
   "outputs": [
    {
     "data": {
      "text/plain": [
       ":Optimal"
      ]
     },
     "execution_count": 3,
     "metadata": {},
     "output_type": "execute_result"
    }
   ],
   "source": [
    "problem.status"
   ]
  },
  {
   "cell_type": "code",
   "execution_count": 4,
   "metadata": {
    "collapsed": false
   },
   "outputs": [
    {
     "data": {
      "text/plain": [
       "3.656985080587803e-6"
      ]
     },
     "execution_count": 4,
     "metadata": {},
     "output_type": "execute_result"
    }
   ],
   "source": [
    "problem.optval"
   ]
  },
  {
   "cell_type": "code",
   "execution_count": null,
   "metadata": {
    "collapsed": true
   },
   "outputs": [],
   "source": []
  }
 ],
 "metadata": {
  "kernelspec": {
   "display_name": "Julia 0.5.1",
   "language": "julia",
   "name": "julia-0.5"
  },
  "language_info": {
   "file_extension": ".jl",
   "mimetype": "application/julia",
   "name": "julia",
   "version": "0.5.1"
  }
 },
 "nbformat": 4,
 "nbformat_minor": 0
}
